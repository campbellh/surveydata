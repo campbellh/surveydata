{
 "cells": [
  {
   "cell_type": "code",
   "execution_count": 1,
   "id": "af0205ff",
   "metadata": {},
   "outputs": [],
   "source": [
    "import pandas as pd\n",
    "import numpy as np\n",
    "import ast \n",
    "import matplotlib as plt "
   ]
  },
  {
   "cell_type": "code",
   "execution_count": 2,
   "id": "b3a7f57d",
   "metadata": {},
   "outputs": [],
   "source": [
    "#https://towardsdatascience.com/the-easiest-way-to-plot-data-from-pandas-on-a-world-map-1a62962a27f3\n",
    "import geopandas as gpd"
   ]
  },
  {
   "cell_type": "code",
   "execution_count": 3,
   "id": "03758aba",
   "metadata": {},
   "outputs": [],
   "source": [
    "df=pd.read_csv('locationdatadf3.csv', header=[0,1])"
   ]
  },
  {
   "cell_type": "code",
   "execution_count": 4,
   "id": "a0521032",
   "metadata": {},
   "outputs": [
    {
     "data": {
      "text/html": [
       "<div>\n",
       "<style scoped>\n",
       "    .dataframe tbody tr th:only-of-type {\n",
       "        vertical-align: middle;\n",
       "    }\n",
       "\n",
       "    .dataframe tbody tr th {\n",
       "        vertical-align: top;\n",
       "    }\n",
       "\n",
       "    .dataframe thead tr th {\n",
       "        text-align: left;\n",
       "    }\n",
       "</style>\n",
       "<table border=\"1\" class=\"dataframe\">\n",
       "  <thead>\n",
       "    <tr>\n",
       "      <th></th>\n",
       "      <th>Unnamed: 0_level_0</th>\n",
       "      <th>Respondent ID</th>\n",
       "      <th>Collector ID</th>\n",
       "      <th>Start Date</th>\n",
       "      <th>End Date</th>\n",
       "      <th>IP Address</th>\n",
       "      <th>Email Address</th>\n",
       "      <th>First Name</th>\n",
       "      <th>Last Name</th>\n",
       "      <th>Custom Data 1</th>\n",
       "      <th>...</th>\n",
       "      <th>Unnamed: 175_level_0</th>\n",
       "      <th>Unnamed: 176_level_0</th>\n",
       "      <th>Unnamed: 177_level_0</th>\n",
       "      <th>Unnamed: 178_level_0</th>\n",
       "      <th>Unnamed: 179_level_0</th>\n",
       "      <th>Unnamed: 180_level_0</th>\n",
       "      <th>Unnamed: 181_level_0</th>\n",
       "      <th>Unnamed: 182_level_0</th>\n",
       "      <th>location</th>\n",
       "      <th>location2</th>\n",
       "    </tr>\n",
       "    <tr>\n",
       "      <th></th>\n",
       "      <th>Unnamed: 0_level_1</th>\n",
       "      <th>Unnamed: 0_level_1</th>\n",
       "      <th>Unnamed: 1_level_1</th>\n",
       "      <th>Unnamed: 2_level_1</th>\n",
       "      <th>Unnamed: 3_level_1</th>\n",
       "      <th>Unnamed: 4_level_1</th>\n",
       "      <th>Unnamed: 5_level_1</th>\n",
       "      <th>Unnamed: 6_level_1</th>\n",
       "      <th>Unnamed: 7_level_1</th>\n",
       "      <th>Unnamed: 8_level_1</th>\n",
       "      <th>...</th>\n",
       "      <th>Address</th>\n",
       "      <th>Address 2</th>\n",
       "      <th>City/Town</th>\n",
       "      <th>State/Province</th>\n",
       "      <th>ZIP/Postal Code</th>\n",
       "      <th>Country</th>\n",
       "      <th>Email Address</th>\n",
       "      <th>Phone Number</th>\n",
       "      <th>Unnamed: 184_level_1</th>\n",
       "      <th>Unnamed: 185_level_1</th>\n",
       "    </tr>\n",
       "  </thead>\n",
       "  <tbody>\n",
       "    <tr>\n",
       "      <th>0</th>\n",
       "      <td>0</td>\n",
       "      <td>12860575804</td>\n",
       "      <td>405782178</td>\n",
       "      <td>8/02/2021 11:38</td>\n",
       "      <td>8/02/2021 11:49</td>\n",
       "      <td>153.107.36.82</td>\n",
       "      <td>NaN</td>\n",
       "      <td>NaN</td>\n",
       "      <td>NaN</td>\n",
       "      <td>NaN</td>\n",
       "      <td>...</td>\n",
       "      <td>NaN</td>\n",
       "      <td>NaN</td>\n",
       "      <td>NaN</td>\n",
       "      <td>NaN</td>\n",
       "      <td>NaN</td>\n",
       "      <td>NaN</td>\n",
       "      <td>NaN</td>\n",
       "      <td>NaN</td>\n",
       "      <td>{'ip_address': '153.107.36.82', 'city': 'Thirr...</td>\n",
       "      <td>{'ip_address': '153.107.36.82', 'city': 'Thirr...</td>\n",
       "    </tr>\n",
       "    <tr>\n",
       "      <th>1</th>\n",
       "      <td>1</td>\n",
       "      <td>12794567427</td>\n",
       "      <td>405782178</td>\n",
       "      <td>7/05/2021 17:32</td>\n",
       "      <td>8/02/2021 11:49</td>\n",
       "      <td>49.178.2.212</td>\n",
       "      <td>NaN</td>\n",
       "      <td>NaN</td>\n",
       "      <td>NaN</td>\n",
       "      <td>NaN</td>\n",
       "      <td>...</td>\n",
       "      <td>NaN</td>\n",
       "      <td>NaN</td>\n",
       "      <td>NaN</td>\n",
       "      <td>NaN</td>\n",
       "      <td>NaN</td>\n",
       "      <td>NaN</td>\n",
       "      <td>NaN</td>\n",
       "      <td>NaN</td>\n",
       "      <td>{'ip_address': '49.178.2.212', 'city': 'Adelai...</td>\n",
       "      <td>{'ip_address': '49.178.2.212', 'city': 'Adelai...</td>\n",
       "    </tr>\n",
       "    <tr>\n",
       "      <th>2</th>\n",
       "      <td>2</td>\n",
       "      <td>12860558920</td>\n",
       "      <td>405782178</td>\n",
       "      <td>8/02/2021 11:16</td>\n",
       "      <td>8/02/2021 11:48</td>\n",
       "      <td>120.22.165.153</td>\n",
       "      <td>NaN</td>\n",
       "      <td>NaN</td>\n",
       "      <td>NaN</td>\n",
       "      <td>NaN</td>\n",
       "      <td>...</td>\n",
       "      <td>NaN</td>\n",
       "      <td>NaN</td>\n",
       "      <td>NaN</td>\n",
       "      <td>NaN</td>\n",
       "      <td>NaN</td>\n",
       "      <td>NaN</td>\n",
       "      <td>NaN</td>\n",
       "      <td>NaN</td>\n",
       "      <td>{'ip_address': '120.22.165.153', 'city': 'Bris...</td>\n",
       "      <td>{'ip_address': '120.22.165.153', 'city': 'Bris...</td>\n",
       "    </tr>\n",
       "    <tr>\n",
       "      <th>3</th>\n",
       "      <td>3</td>\n",
       "      <td>12860568360</td>\n",
       "      <td>405782178</td>\n",
       "      <td>8/02/2021 11:33</td>\n",
       "      <td>8/02/2021 11:46</td>\n",
       "      <td>121.214.209.195</td>\n",
       "      <td>NaN</td>\n",
       "      <td>NaN</td>\n",
       "      <td>NaN</td>\n",
       "      <td>NaN</td>\n",
       "      <td>...</td>\n",
       "      <td>NaN</td>\n",
       "      <td>NaN</td>\n",
       "      <td>NaN</td>\n",
       "      <td>NaN</td>\n",
       "      <td>NaN</td>\n",
       "      <td>NaN</td>\n",
       "      <td>NaN</td>\n",
       "      <td>NaN</td>\n",
       "      <td>{'ip_address': '121.214.209.195', 'city': 'Bri...</td>\n",
       "      <td>{'ip_address': '121.214.209.195', 'city': 'Bri...</td>\n",
       "    </tr>\n",
       "    <tr>\n",
       "      <th>4</th>\n",
       "      <td>4</td>\n",
       "      <td>12860525174</td>\n",
       "      <td>405782178</td>\n",
       "      <td>8/02/2021 11:06</td>\n",
       "      <td>8/02/2021 11:18</td>\n",
       "      <td>203.111.163.174</td>\n",
       "      <td>NaN</td>\n",
       "      <td>NaN</td>\n",
       "      <td>NaN</td>\n",
       "      <td>NaN</td>\n",
       "      <td>...</td>\n",
       "      <td>NaN</td>\n",
       "      <td>NaN</td>\n",
       "      <td>NaN</td>\n",
       "      <td>NaN</td>\n",
       "      <td>NaN</td>\n",
       "      <td>NaN</td>\n",
       "      <td>NaN</td>\n",
       "      <td>NaN</td>\n",
       "      <td>{'ip_address': '203.111.163.174', 'city': 'Ric...</td>\n",
       "      <td>{'ip_address': '203.111.163.174', 'city': 'Ric...</td>\n",
       "    </tr>\n",
       "  </tbody>\n",
       "</table>\n",
       "<p>5 rows × 186 columns</p>\n",
       "</div>"
      ],
      "text/plain": [
       "  Unnamed: 0_level_0      Respondent ID       Collector ID         Start Date  \\\n",
       "  Unnamed: 0_level_1 Unnamed: 0_level_1 Unnamed: 1_level_1 Unnamed: 2_level_1   \n",
       "0                  0        12860575804          405782178    8/02/2021 11:38   \n",
       "1                  1        12794567427          405782178    7/05/2021 17:32   \n",
       "2                  2        12860558920          405782178    8/02/2021 11:16   \n",
       "3                  3        12860568360          405782178    8/02/2021 11:33   \n",
       "4                  4        12860525174          405782178    8/02/2021 11:06   \n",
       "\n",
       "            End Date         IP Address      Email Address         First Name  \\\n",
       "  Unnamed: 3_level_1 Unnamed: 4_level_1 Unnamed: 5_level_1 Unnamed: 6_level_1   \n",
       "0    8/02/2021 11:49      153.107.36.82                NaN                NaN   \n",
       "1    8/02/2021 11:49       49.178.2.212                NaN                NaN   \n",
       "2    8/02/2021 11:48     120.22.165.153                NaN                NaN   \n",
       "3    8/02/2021 11:46    121.214.209.195                NaN                NaN   \n",
       "4    8/02/2021 11:18    203.111.163.174                NaN                NaN   \n",
       "\n",
       "           Last Name      Custom Data 1  ... Unnamed: 175_level_0  \\\n",
       "  Unnamed: 7_level_1 Unnamed: 8_level_1  ...              Address   \n",
       "0                NaN                NaN  ...                  NaN   \n",
       "1                NaN                NaN  ...                  NaN   \n",
       "2                NaN                NaN  ...                  NaN   \n",
       "3                NaN                NaN  ...                  NaN   \n",
       "4                NaN                NaN  ...                  NaN   \n",
       "\n",
       "  Unnamed: 176_level_0 Unnamed: 177_level_0 Unnamed: 178_level_0  \\\n",
       "             Address 2            City/Town       State/Province   \n",
       "0                  NaN                  NaN                  NaN   \n",
       "1                  NaN                  NaN                  NaN   \n",
       "2                  NaN                  NaN                  NaN   \n",
       "3                  NaN                  NaN                  NaN   \n",
       "4                  NaN                  NaN                  NaN   \n",
       "\n",
       "  Unnamed: 179_level_0 Unnamed: 180_level_0 Unnamed: 181_level_0  \\\n",
       "       ZIP/Postal Code              Country        Email Address   \n",
       "0                  NaN                  NaN                  NaN   \n",
       "1                  NaN                  NaN                  NaN   \n",
       "2                  NaN                  NaN                  NaN   \n",
       "3                  NaN                  NaN                  NaN   \n",
       "4                  NaN                  NaN                  NaN   \n",
       "\n",
       "  Unnamed: 182_level_0                                           location  \\\n",
       "          Phone Number                               Unnamed: 184_level_1   \n",
       "0                  NaN  {'ip_address': '153.107.36.82', 'city': 'Thirr...   \n",
       "1                  NaN  {'ip_address': '49.178.2.212', 'city': 'Adelai...   \n",
       "2                  NaN  {'ip_address': '120.22.165.153', 'city': 'Bris...   \n",
       "3                  NaN  {'ip_address': '121.214.209.195', 'city': 'Bri...   \n",
       "4                  NaN  {'ip_address': '203.111.163.174', 'city': 'Ric...   \n",
       "\n",
       "                                           location2  \n",
       "                                Unnamed: 185_level_1  \n",
       "0  {'ip_address': '153.107.36.82', 'city': 'Thirr...  \n",
       "1  {'ip_address': '49.178.2.212', 'city': 'Adelai...  \n",
       "2  {'ip_address': '120.22.165.153', 'city': 'Bris...  \n",
       "3  {'ip_address': '121.214.209.195', 'city': 'Bri...  \n",
       "4  {'ip_address': '203.111.163.174', 'city': 'Ric...  \n",
       "\n",
       "[5 rows x 186 columns]"
      ]
     },
     "execution_count": 4,
     "metadata": {},
     "output_type": "execute_result"
    }
   ],
   "source": [
    "df.head()"
   ]
  },
  {
   "cell_type": "code",
   "execution_count": 5,
   "id": "6d59f5c8",
   "metadata": {},
   "outputs": [],
   "source": [
    "dictionary = ast.literal_eval(df['location2', 'Unnamed: 185_level_1'][1])"
   ]
  },
  {
   "cell_type": "code",
   "execution_count": 6,
   "id": "ee2a7d2b",
   "metadata": {},
   "outputs": [
    {
     "data": {
      "text/plain": [
       "'Adelaide'"
      ]
     },
     "execution_count": 6,
     "metadata": {},
     "output_type": "execute_result"
    }
   ],
   "source": [
    "dictionary['city']"
   ]
  },
  {
   "cell_type": "code",
   "execution_count": 7,
   "id": "35260618",
   "metadata": {},
   "outputs": [
    {
     "data": {
      "text/plain": [
       "'Adelaide'"
      ]
     },
     "execution_count": 7,
     "metadata": {},
     "output_type": "execute_result"
    }
   ],
   "source": [
    "ast.literal_eval(df['location2', 'Unnamed: 185_level_1'][1])['city']"
   ]
  },
  {
   "cell_type": "code",
   "execution_count": 8,
   "id": "8623ec49",
   "metadata": {},
   "outputs": [
    {
     "data": {
      "text/plain": [
       "{'ip_address': '49.178.2.212',\n",
       " 'city': 'Adelaide',\n",
       " 'city_geoname_id': 2078025,\n",
       " 'region': 'South Australia',\n",
       " 'region_iso_code': 'SA',\n",
       " 'region_geoname_id': 2061327,\n",
       " 'postal_code': '5001',\n",
       " 'country': 'Australia',\n",
       " 'country_code': 'AU',\n",
       " 'country_geoname_id': 2077456,\n",
       " 'country_is_eu': False,\n",
       " 'continent': 'Oceania',\n",
       " 'continent_code': 'OC',\n",
       " 'continent_geoname_id': 6255151,\n",
       " 'longitude': 138.6005,\n",
       " 'latitude': -34.9274,\n",
       " 'security': {'is_vpn': False},\n",
       " 'timezone': {'name': 'Australia/Adelaide',\n",
       "  'abbreviation': 'ACST',\n",
       "  'gmt_offset': 9,\n",
       "  'current_time': '09:29:45',\n",
       "  'is_dst': False},\n",
       " 'flag': {'emoji': '🇦🇺',\n",
       "  'unicode': 'U+1F1E6 U+1F1FA',\n",
       "  'png': 'https://static.abstractapi.com/country-flags/AU_flag.png',\n",
       "  'svg': 'https://static.abstractapi.com/country-flags/AU_flag.svg'},\n",
       " 'currency': {'currency_name': 'Australian Dollars', 'currency_code': 'AUD'},\n",
       " 'connection': {'autonomous_system_number': 4804,\n",
       "  'autonomous_system_organization': 'Microplex PTY LTD',\n",
       "  'connection_type': 'Cellular',\n",
       "  'isp_name': 'SingTel Optus Pty Ltd',\n",
       "  'organization_name': 'Optus Internet Pty Ltd'}}"
      ]
     },
     "execution_count": 8,
     "metadata": {},
     "output_type": "execute_result"
    }
   ],
   "source": [
    "dictionary"
   ]
  },
  {
   "cell_type": "code",
   "execution_count": 9,
   "id": "22793be3",
   "metadata": {},
   "outputs": [],
   "source": [
    "def city(x):\n",
    "    return ast.literal_eval(x)['city']"
   ]
  },
  {
   "cell_type": "code",
   "execution_count": 10,
   "id": "a00180bd",
   "metadata": {},
   "outputs": [],
   "source": [
    "def security(x):\n",
    "    return ast.literal_eval(x)['security']"
   ]
  },
  {
   "cell_type": "code",
   "execution_count": 11,
   "id": "726da084",
   "metadata": {},
   "outputs": [],
   "source": [
    "df['security']=df['location2', 'Unnamed: 185_level_1'].apply(lambda x: security(x))"
   ]
  },
  {
   "cell_type": "code",
   "execution_count": 12,
   "id": "5e341263",
   "metadata": {},
   "outputs": [],
   "source": [
    "#df['security'].value_counts()"
   ]
  },
  {
   "cell_type": "code",
   "execution_count": 13,
   "id": "1d1cf57a",
   "metadata": {},
   "outputs": [],
   "source": [
    "def country(x):\n",
    "    return ast.literal_eval(x)['country']\n",
    "def longitude(x):\n",
    "    return ast.literal_eval(x)['longitude']\n",
    "def latitude(x):\n",
    "    return ast.literal_eval(x)['latitude']\n",
    "def region(x):\n",
    "    return ast.literal_eval(x)['region']"
   ]
  },
  {
   "cell_type": "code",
   "execution_count": 14,
   "id": "10beef41",
   "metadata": {},
   "outputs": [],
   "source": [
    "df['city']=df['location2', 'Unnamed: 185_level_1'].apply(lambda x: city(x))"
   ]
  },
  {
   "cell_type": "code",
   "execution_count": 15,
   "id": "7a31f42b",
   "metadata": {},
   "outputs": [],
   "source": [
    "df['country']=df['location2', 'Unnamed: 185_level_1'].apply(lambda x: country(x))\n",
    "df['longitude']=df['location2', 'Unnamed: 185_level_1'].apply(lambda x: longitude(x))\n",
    "df['latitude']=df['location2', 'Unnamed: 185_level_1'].apply(lambda x: latitude(x))\n",
    "df['state']=df['location2', 'Unnamed: 185_level_1'].apply(lambda x: region(x))"
   ]
  },
  {
   "cell_type": "code",
   "execution_count": 16,
   "id": "eef7a216",
   "metadata": {},
   "outputs": [
    {
     "data": {
      "text/plain": [
       "New South Wales                    726\n",
       "Victoria                           625\n",
       "Queensland                         351\n",
       "Western Australia                  251\n",
       "South Australia                    230\n",
       "                                  ... \n",
       "Scotland                             1\n",
       "Ptuj                                 1\n",
       "Brussels Capital                     1\n",
       "Dubrovacko-Neretvanska Zupanija      1\n",
       "British Columbia                     1\n",
       "Name: state, Length: 70, dtype: int64"
      ]
     },
     "execution_count": 16,
     "metadata": {},
     "output_type": "execute_result"
    }
   ],
   "source": [
    "df['state'].value_counts()"
   ]
  },
  {
   "cell_type": "code",
   "execution_count": 17,
   "id": "40c160ad",
   "metadata": {},
   "outputs": [
    {
     "data": {
      "text/plain": [
       "Australia                 2353\n",
       "United States               30\n",
       "New Zealand                 23\n",
       "United Kingdom              11\n",
       "Canada                       8\n",
       "Ireland                      4\n",
       "India                        4\n",
       "Netherlands                  3\n",
       "Spain                        3\n",
       "South Africa                 3\n",
       "Germany                      2\n",
       "Malaysia                     2\n",
       "Greece                       2\n",
       "Norway                       1\n",
       "Croatia                      1\n",
       "Pakistan                     1\n",
       "Bulgaria                     1\n",
       "Principality of Monaco       1\n",
       "Romania                      1\n",
       "Brazil                       1\n",
       "Belgium                      1\n",
       "Singapore                    1\n",
       "Slovenia                     1\n",
       "United Arab Emirates         1\n",
       "Israel                       1\n",
       "Portugal                     1\n",
       "Japan                        1\n",
       "Nepal                        1\n",
       "Hong Kong                    1\n",
       "Cyprus                       1\n",
       "Name: country, dtype: int64"
      ]
     },
     "execution_count": 17,
     "metadata": {},
     "output_type": "execute_result"
    }
   ],
   "source": [
    "df['country'].value_counts()"
   ]
  },
  {
   "cell_type": "code",
   "execution_count": 18,
   "id": "0c6ad728",
   "metadata": {},
   "outputs": [],
   "source": [
    "#df.to_csv('data02082021location.csv')"
   ]
  },
  {
   "cell_type": "code",
   "execution_count": 19,
   "id": "61075155",
   "metadata": {},
   "outputs": [
    {
     "data": {
      "text/html": [
       "<div>\n",
       "<style scoped>\n",
       "    .dataframe tbody tr th:only-of-type {\n",
       "        vertical-align: middle;\n",
       "    }\n",
       "\n",
       "    .dataframe tbody tr th {\n",
       "        vertical-align: top;\n",
       "    }\n",
       "\n",
       "    .dataframe thead tr th {\n",
       "        text-align: left;\n",
       "    }\n",
       "</style>\n",
       "<table border=\"1\" class=\"dataframe\">\n",
       "  <thead>\n",
       "    <tr>\n",
       "      <th></th>\n",
       "      <th>Unnamed: 0_level_0</th>\n",
       "      <th>Respondent ID</th>\n",
       "      <th>Collector ID</th>\n",
       "      <th>Start Date</th>\n",
       "      <th>End Date</th>\n",
       "      <th>IP Address</th>\n",
       "      <th>Email Address</th>\n",
       "      <th>First Name</th>\n",
       "      <th>Last Name</th>\n",
       "      <th>Custom Data 1</th>\n",
       "      <th>...</th>\n",
       "      <th>Unnamed: 181_level_0</th>\n",
       "      <th>Unnamed: 182_level_0</th>\n",
       "      <th>location</th>\n",
       "      <th>location2</th>\n",
       "      <th>security</th>\n",
       "      <th>city</th>\n",
       "      <th>country</th>\n",
       "      <th>longitude</th>\n",
       "      <th>latitude</th>\n",
       "      <th>state</th>\n",
       "    </tr>\n",
       "    <tr>\n",
       "      <th></th>\n",
       "      <th>Unnamed: 0_level_1</th>\n",
       "      <th>Unnamed: 0_level_1</th>\n",
       "      <th>Unnamed: 1_level_1</th>\n",
       "      <th>Unnamed: 2_level_1</th>\n",
       "      <th>Unnamed: 3_level_1</th>\n",
       "      <th>Unnamed: 4_level_1</th>\n",
       "      <th>Unnamed: 5_level_1</th>\n",
       "      <th>Unnamed: 6_level_1</th>\n",
       "      <th>Unnamed: 7_level_1</th>\n",
       "      <th>Unnamed: 8_level_1</th>\n",
       "      <th>...</th>\n",
       "      <th>Email Address</th>\n",
       "      <th>Phone Number</th>\n",
       "      <th>Unnamed: 184_level_1</th>\n",
       "      <th>Unnamed: 185_level_1</th>\n",
       "      <th></th>\n",
       "      <th></th>\n",
       "      <th></th>\n",
       "      <th></th>\n",
       "      <th></th>\n",
       "      <th></th>\n",
       "    </tr>\n",
       "  </thead>\n",
       "  <tbody>\n",
       "    <tr>\n",
       "      <th>248</th>\n",
       "      <td>248</td>\n",
       "      <td>12848497508</td>\n",
       "      <td>405782178</td>\n",
       "      <td>07/28/2021 06:26:47 AM</td>\n",
       "      <td>07/28/2021 06:46:34 AM</td>\n",
       "      <td>88.17.9.136</td>\n",
       "      <td>NaN</td>\n",
       "      <td>NaN</td>\n",
       "      <td>NaN</td>\n",
       "      <td>NaN</td>\n",
       "      <td>...</td>\n",
       "      <td>NaN</td>\n",
       "      <td>NaN</td>\n",
       "      <td>{'error': {'message': 'Free plan is limited to...</td>\n",
       "      <td>{'ip_address': '88.17.9.136', 'city': 'Benahad...</td>\n",
       "      <td>{'is_vpn': False}</td>\n",
       "      <td>Benahadux</td>\n",
       "      <td>Spain</td>\n",
       "      <td>-2.4588</td>\n",
       "      <td>36.9229</td>\n",
       "      <td>Andalusia</td>\n",
       "    </tr>\n",
       "    <tr>\n",
       "      <th>378</th>\n",
       "      <td>378</td>\n",
       "      <td>12846566062</td>\n",
       "      <td>405782178</td>\n",
       "      <td>07/27/2021 01:31:55 PM</td>\n",
       "      <td>07/27/2021 01:46:14 PM</td>\n",
       "      <td>88.17.9.136</td>\n",
       "      <td>NaN</td>\n",
       "      <td>NaN</td>\n",
       "      <td>NaN</td>\n",
       "      <td>NaN</td>\n",
       "      <td>...</td>\n",
       "      <td>NaN</td>\n",
       "      <td>NaN</td>\n",
       "      <td>{'ip_address': '88.17.9.136', 'city': 'Benahad...</td>\n",
       "      <td>{'ip_address': '88.17.9.136', 'city': 'Benahad...</td>\n",
       "      <td>{'is_vpn': False}</td>\n",
       "      <td>Benahadux</td>\n",
       "      <td>Spain</td>\n",
       "      <td>-2.4588</td>\n",
       "      <td>36.9229</td>\n",
       "      <td>Andalusia</td>\n",
       "    </tr>\n",
       "    <tr>\n",
       "      <th>1886</th>\n",
       "      <td>1886</td>\n",
       "      <td>12795648136</td>\n",
       "      <td>405782178</td>\n",
       "      <td>7/06/2021 3:07</td>\n",
       "      <td>7/06/2021 3:24</td>\n",
       "      <td>83.32.119.105</td>\n",
       "      <td>NaN</td>\n",
       "      <td>NaN</td>\n",
       "      <td>NaN</td>\n",
       "      <td>NaN</td>\n",
       "      <td>...</td>\n",
       "      <td>NaN</td>\n",
       "      <td>NaN</td>\n",
       "      <td>{'ip_address': '83.32.119.105', 'city': 'Barba...</td>\n",
       "      <td>{'ip_address': '83.32.119.105', 'city': 'Barba...</td>\n",
       "      <td>{'is_vpn': False}</td>\n",
       "      <td>Barbastro</td>\n",
       "      <td>Spain</td>\n",
       "      <td>0.1258</td>\n",
       "      <td>42.0374</td>\n",
       "      <td>Aragon</td>\n",
       "    </tr>\n",
       "  </tbody>\n",
       "</table>\n",
       "<p>3 rows × 192 columns</p>\n",
       "</div>"
      ],
      "text/plain": [
       "     Unnamed: 0_level_0      Respondent ID       Collector ID  \\\n",
       "     Unnamed: 0_level_1 Unnamed: 0_level_1 Unnamed: 1_level_1   \n",
       "248                 248        12848497508          405782178   \n",
       "378                 378        12846566062          405782178   \n",
       "1886               1886        12795648136          405782178   \n",
       "\n",
       "                  Start Date                End Date         IP Address  \\\n",
       "          Unnamed: 2_level_1      Unnamed: 3_level_1 Unnamed: 4_level_1   \n",
       "248   07/28/2021 06:26:47 AM  07/28/2021 06:46:34 AM        88.17.9.136   \n",
       "378   07/27/2021 01:31:55 PM  07/27/2021 01:46:14 PM        88.17.9.136   \n",
       "1886          7/06/2021 3:07          7/06/2021 3:24      83.32.119.105   \n",
       "\n",
       "          Email Address         First Name          Last Name  \\\n",
       "     Unnamed: 5_level_1 Unnamed: 6_level_1 Unnamed: 7_level_1   \n",
       "248                 NaN                NaN                NaN   \n",
       "378                 NaN                NaN                NaN   \n",
       "1886                NaN                NaN                NaN   \n",
       "\n",
       "          Custom Data 1  ... Unnamed: 181_level_0 Unnamed: 182_level_0  \\\n",
       "     Unnamed: 8_level_1  ...        Email Address         Phone Number   \n",
       "248                 NaN  ...                  NaN                  NaN   \n",
       "378                 NaN  ...                  NaN                  NaN   \n",
       "1886                NaN  ...                  NaN                  NaN   \n",
       "\n",
       "                                               location  \\\n",
       "                                   Unnamed: 184_level_1   \n",
       "248   {'error': {'message': 'Free plan is limited to...   \n",
       "378   {'ip_address': '88.17.9.136', 'city': 'Benahad...   \n",
       "1886  {'ip_address': '83.32.119.105', 'city': 'Barba...   \n",
       "\n",
       "                                              location2           security  \\\n",
       "                                   Unnamed: 185_level_1                      \n",
       "248   {'ip_address': '88.17.9.136', 'city': 'Benahad...  {'is_vpn': False}   \n",
       "378   {'ip_address': '88.17.9.136', 'city': 'Benahad...  {'is_vpn': False}   \n",
       "1886  {'ip_address': '83.32.119.105', 'city': 'Barba...  {'is_vpn': False}   \n",
       "\n",
       "           city country longitude latitude      state  \n",
       "                                                       \n",
       "248   Benahadux   Spain   -2.4588  36.9229  Andalusia  \n",
       "378   Benahadux   Spain   -2.4588  36.9229  Andalusia  \n",
       "1886  Barbastro   Spain    0.1258  42.0374     Aragon  \n",
       "\n",
       "[3 rows x 192 columns]"
      ]
     },
     "execution_count": 19,
     "metadata": {},
     "output_type": "execute_result"
    }
   ],
   "source": [
    "df[df['country']=='Spain']"
   ]
  },
  {
   "cell_type": "code",
   "execution_count": 20,
   "id": "ca741dca",
   "metadata": {},
   "outputs": [
    {
     "data": {
      "text/plain": [
       "MultiIndex([(  'Unnamed: 0_level_0',   'Unnamed: 0_level_1'),\n",
       "            (       'Respondent ID',   'Unnamed: 0_level_1'),\n",
       "            (        'Collector ID',   'Unnamed: 1_level_1'),\n",
       "            (          'Start Date',   'Unnamed: 2_level_1'),\n",
       "            (            'End Date',   'Unnamed: 3_level_1'),\n",
       "            (          'IP Address',   'Unnamed: 4_level_1'),\n",
       "            (       'Email Address',   'Unnamed: 5_level_1'),\n",
       "            (          'First Name',   'Unnamed: 6_level_1'),\n",
       "            (           'Last Name',   'Unnamed: 7_level_1'),\n",
       "            (       'Custom Data 1',   'Unnamed: 8_level_1'),\n",
       "            ...\n",
       "            ('Unnamed: 181_level_0',        'Email Address'),\n",
       "            ('Unnamed: 182_level_0',         'Phone Number'),\n",
       "            (            'location', 'Unnamed: 184_level_1'),\n",
       "            (           'location2', 'Unnamed: 185_level_1'),\n",
       "            (            'security',                     ''),\n",
       "            (                'city',                     ''),\n",
       "            (             'country',                     ''),\n",
       "            (           'longitude',                     ''),\n",
       "            (            'latitude',                     ''),\n",
       "            (               'state',                     '')],\n",
       "           length=192)"
      ]
     },
     "execution_count": 20,
     "metadata": {},
     "output_type": "execute_result"
    }
   ],
   "source": [
    "df.columns"
   ]
  },
  {
   "cell_type": "code",
   "execution_count": 21,
   "id": "b7616712",
   "metadata": {},
   "outputs": [
    {
     "data": {
      "image/png": "[encoded data removed]",
      "text/plain": [
       "<Figure size 432x288 with 1 Axes>"
      ]
     },
     "metadata": {
      "needs_background": "light"
     },
     "output_type": "display_data"
    }
   ],
   "source": [
    "df.plot(x=\"longitude\", y=\"latitude\", kind=\"scatter\", colormap=\"YlOrRd\");"
   ]
  },
  {
   "cell_type": "code",
   "execution_count": 22,
   "id": "e277df63",
   "metadata": {},
   "outputs": [
    {
     "data": {
      "text/html": [
       "<div>\n",
       "<style scoped>\n",
       "    .dataframe tbody tr th:only-of-type {\n",
       "        vertical-align: middle;\n",
       "    }\n",
       "\n",
       "    .dataframe tbody tr th {\n",
       "        vertical-align: top;\n",
       "    }\n",
       "\n",
       "    .dataframe thead th {\n",
       "        text-align: right;\n",
       "    }\n",
       "</style>\n",
       "<table border=\"1\" class=\"dataframe\">\n",
       "  <thead>\n",
       "    <tr style=\"text-align: right;\">\n",
       "      <th></th>\n",
       "      <th>pop_est</th>\n",
       "      <th>continent</th>\n",
       "      <th>name</th>\n",
       "      <th>iso_a3</th>\n",
       "      <th>gdp_md_est</th>\n",
       "      <th>geometry</th>\n",
       "    </tr>\n",
       "  </thead>\n",
       "  <tbody>\n",
       "    <tr>\n",
       "      <th>0</th>\n",
       "      <td>920938</td>\n",
       "      <td>Oceania</td>\n",
       "      <td>Fiji</td>\n",
       "      <td>FJI</td>\n",
       "      <td>8374.0</td>\n",
       "      <td>MULTIPOLYGON (((180.00000 -16.06713, 180.00000...</td>\n",
       "    </tr>\n",
       "    <tr>\n",
       "      <th>1</th>\n",
       "      <td>53950935</td>\n",
       "      <td>Africa</td>\n",
       "      <td>Tanzania</td>\n",
       "      <td>TZA</td>\n",
       "      <td>150600.0</td>\n",
       "      <td>POLYGON ((33.90371 -0.95000, 34.07262 -1.05982...</td>\n",
       "    </tr>\n",
       "    <tr>\n",
       "      <th>2</th>\n",
       "      <td>603253</td>\n",
       "      <td>Africa</td>\n",
       "      <td>W. Sahara</td>\n",
       "      <td>ESH</td>\n",
       "      <td>906.5</td>\n",
       "      <td>POLYGON ((-8.66559 27.65643, -8.66512 27.58948...</td>\n",
       "    </tr>\n",
       "    <tr>\n",
       "      <th>3</th>\n",
       "      <td>35623680</td>\n",
       "      <td>North America</td>\n",
       "      <td>Canada</td>\n",
       "      <td>CAN</td>\n",
       "      <td>1674000.0</td>\n",
       "      <td>MULTIPOLYGON (((-122.84000 49.00000, -122.9742...</td>\n",
       "    </tr>\n",
       "    <tr>\n",
       "      <th>4</th>\n",
       "      <td>326625791</td>\n",
       "      <td>North America</td>\n",
       "      <td>United States of America</td>\n",
       "      <td>USA</td>\n",
       "      <td>18560000.0</td>\n",
       "      <td>MULTIPOLYGON (((-122.84000 49.00000, -120.0000...</td>\n",
       "    </tr>\n",
       "  </tbody>\n",
       "</table>\n",
       "</div>"
      ],
      "text/plain": [
       "     pop_est      continent                      name iso_a3  gdp_md_est  \\\n",
       "0     920938        Oceania                      Fiji    FJI      8374.0   \n",
       "1   53950935         Africa                  Tanzania    TZA    150600.0   \n",
       "2     603253         Africa                 W. Sahara    ESH       906.5   \n",
       "3   35623680  North America                    Canada    CAN   1674000.0   \n",
       "4  326625791  North America  United States of America    USA  18560000.0   \n",
       "\n",
       "                                            geometry  \n",
       "0  MULTIPOLYGON (((180.00000 -16.06713, 180.00000...  \n",
       "1  POLYGON ((33.90371 -0.95000, 34.07262 -1.05982...  \n",
       "2  POLYGON ((-8.66559 27.65643, -8.66512 27.58948...  \n",
       "3  MULTIPOLYGON (((-122.84000 49.00000, -122.9742...  \n",
       "4  MULTIPOLYGON (((-122.84000 49.00000, -120.0000...  "
      ]
     },
     "execution_count": 22,
     "metadata": {},
     "output_type": "execute_result"
    }
   ],
   "source": [
    "countries = gpd.read_file(\n",
    "               gpd.datasets.get_path(\"naturalearth_lowres\"))\n",
    "countries.head()\n"
   ]
  },
  {
   "cell_type": "code",
   "execution_count": 23,
   "id": "78510b71",
   "metadata": {},
   "outputs": [],
   "source": [
    "df_australia=gpd.read_file('STE_2016_AUST.shp')"
   ]
  },
  {
   "cell_type": "code",
   "execution_count": null,
   "id": "93508075",
   "metadata": {},
   "outputs": [],
   "source": [
    "df_australia.head()"
   ]
  },
  {
   "cell_type": "code",
   "execution_count": 40,
   "id": "60ae4e69",
   "metadata": {},
   "outputs": [],
   "source": [
    "df_australia.set_index('STE_NAME16', inplace=True)"
   ]
  },
  {
   "cell_type": "code",
   "execution_count": 25,
   "id": "d9647285",
   "metadata": {},
   "outputs": [
    {
     "data": {
      "text/plain": [
       "Index(['pop_est', 'continent', 'name', 'iso_a3', 'gdp_md_est', 'geometry'], dtype='object')"
      ]
     },
     "execution_count": 25,
     "metadata": {},
     "output_type": "execute_result"
    }
   ],
   "source": [
    "countries.columns"
   ]
  },
  {
   "cell_type": "code",
   "execution_count": 42,
   "id": "329e00a5",
   "metadata": {},
   "outputs": [],
   "source": [
    "dfmap=df[df['country']=='Australia']['state'].value_counts().to_frame()"
   ]
  },
  {
   "cell_type": "code",
   "execution_count": 30,
   "id": "ca3649bf",
   "metadata": {},
   "outputs": [
    {
     "data": {
      "image/png": "[encoded data removed]",
      "text/plain": [
       "<Figure size 576x432 with 1 Axes>"
      ]
     },
     "metadata": {
      "needs_background": "light"
     },
     "output_type": "display_data"
    }
   ],
   "source": [
    "# initialize an axis\n",
    "fig, ax = plt.pyplot.subplots(figsize=(8,6))\n",
    "# plot map on axis\n",
    "# countries = gpd.read_file(  \n",
    "#      gpd.datasets.get_path(\"naturalearth_lowres\"))\n",
    "# df_australia.plot(ax=ax)\n",
    "countries[countries[\"name\"] == \"Australia\"].plot(color=\"lightgrey\",ax=ax)\n",
    "\n",
    "# plot points\n",
    "df[df['country']==\"Australia\"].plot(x=\"longitude\", y=\"latitude\", kind=\"scatter\", colormap=\"YlOrRd\",ax=ax)\n",
    "\n",
    "\n",
    "# add grid\n",
    "ax.grid(b=True, alpha=0.5)\n",
    "\n",
    "#plt.pyplot.savefig('mapofIPaddresses.svg')"
   ]
  },
  {
   "cell_type": "code",
   "execution_count": 55,
   "id": "283e9735",
   "metadata": {},
   "outputs": [],
   "source": [
    "from geopandas import GeoSeries, GeoDataFrame"
   ]
  },
  {
   "cell_type": "code",
   "execution_count": 43,
   "id": "f4d523c5",
   "metadata": {},
   "outputs": [],
   "source": [
    "dfmap.rename(columns={'state':'count'}, inplace=True)"
   ]
  },
  {
   "cell_type": "code",
   "execution_count": 44,
   "id": "8f9e563d",
   "metadata": {},
   "outputs": [],
   "source": [
    "dfmap=dfmap.join(df_australia)\n"
   ]
  },
  {
   "cell_type": "code",
   "execution_count": 45,
   "id": "42685bd8",
   "metadata": {},
   "outputs": [
    {
     "data": {
      "text/html": [
       "<div>\n",
       "<style scoped>\n",
       "    .dataframe tbody tr th:only-of-type {\n",
       "        vertical-align: middle;\n",
       "    }\n",
       "\n",
       "    .dataframe tbody tr th {\n",
       "        vertical-align: top;\n",
       "    }\n",
       "\n",
       "    .dataframe thead th {\n",
       "        text-align: right;\n",
       "    }\n",
       "</style>\n",
       "<table border=\"1\" class=\"dataframe\">\n",
       "  <thead>\n",
       "    <tr style=\"text-align: right;\">\n",
       "      <th></th>\n",
       "      <th>count</th>\n",
       "      <th>STE_CODE16</th>\n",
       "      <th>AREASQKM16</th>\n",
       "      <th>geometry</th>\n",
       "    </tr>\n",
       "  </thead>\n",
       "  <tbody>\n",
       "    <tr>\n",
       "      <th>New South Wales</th>\n",
       "      <td>726</td>\n",
       "      <td>1</td>\n",
       "      <td>8.008108e+05</td>\n",
       "      <td>MULTIPOLYGON (((149.91634 -37.07401, 149.91624...</td>\n",
       "    </tr>\n",
       "    <tr>\n",
       "      <th>Victoria</th>\n",
       "      <td>625</td>\n",
       "      <td>2</td>\n",
       "      <td>2.274956e+05</td>\n",
       "      <td>MULTIPOLYGON (((144.73141 -38.35025, 144.73147...</td>\n",
       "    </tr>\n",
       "    <tr>\n",
       "      <th>Queensland</th>\n",
       "      <td>351</td>\n",
       "      <td>3</td>\n",
       "      <td>1.730172e+06</td>\n",
       "      <td>MULTIPOLYGON (((152.93630 -25.74359, 152.93631...</td>\n",
       "    </tr>\n",
       "    <tr>\n",
       "      <th>Western Australia</th>\n",
       "      <td>251</td>\n",
       "      <td>5</td>\n",
       "      <td>2.526646e+06</td>\n",
       "      <td>MULTIPOLYGON (((117.95914 -35.09446, 117.95910...</td>\n",
       "    </tr>\n",
       "    <tr>\n",
       "      <th>South Australia</th>\n",
       "      <td>230</td>\n",
       "      <td>4</td>\n",
       "      <td>9.842749e+05</td>\n",
       "      <td>MULTIPOLYGON (((140.13106 -37.58957, 140.13100...</td>\n",
       "    </tr>\n",
       "    <tr>\n",
       "      <th>Tasmania</th>\n",
       "      <td>85</td>\n",
       "      <td>6</td>\n",
       "      <td>6.801786e+04</td>\n",
       "      <td>MULTIPOLYGON (((144.65698 -40.37303, 144.65699...</td>\n",
       "    </tr>\n",
       "    <tr>\n",
       "      <th>Australian Capital Territory</th>\n",
       "      <td>64</td>\n",
       "      <td>8</td>\n",
       "      <td>2.358172e+03</td>\n",
       "      <td>POLYGON ((149.06241 -35.15916, 149.07352 -35.1...</td>\n",
       "    </tr>\n",
       "    <tr>\n",
       "      <th>Northern Territory</th>\n",
       "      <td>3</td>\n",
       "      <td>7</td>\n",
       "      <td>1.348094e+06</td>\n",
       "      <td>MULTIPOLYGON (((130.87759 -12.55740, 130.87725...</td>\n",
       "    </tr>\n",
       "  </tbody>\n",
       "</table>\n",
       "</div>"
      ],
      "text/plain": [
       "                              count STE_CODE16    AREASQKM16  \\\n",
       "New South Wales                 726          1  8.008108e+05   \n",
       "Victoria                        625          2  2.274956e+05   \n",
       "Queensland                      351          3  1.730172e+06   \n",
       "Western Australia               251          5  2.526646e+06   \n",
       "South Australia                 230          4  9.842749e+05   \n",
       "Tasmania                         85          6  6.801786e+04   \n",
       "Australian Capital Territory     64          8  2.358172e+03   \n",
       "Northern Territory                3          7  1.348094e+06   \n",
       "\n",
       "                                                                       geometry  \n",
       "New South Wales               MULTIPOLYGON (((149.91634 -37.07401, 149.91624...  \n",
       "Victoria                      MULTIPOLYGON (((144.73141 -38.35025, 144.73147...  \n",
       "Queensland                    MULTIPOLYGON (((152.93630 -25.74359, 152.93631...  \n",
       "Western Australia             MULTIPOLYGON (((117.95914 -35.09446, 117.95910...  \n",
       "South Australia               MULTIPOLYGON (((140.13106 -37.58957, 140.13100...  \n",
       "Tasmania                      MULTIPOLYGON (((144.65698 -40.37303, 144.65699...  \n",
       "Australian Capital Territory  POLYGON ((149.06241 -35.15916, 149.07352 -35.1...  \n",
       "Northern Territory            MULTIPOLYGON (((130.87759 -12.55740, 130.87725...  "
      ]
     },
     "execution_count": 45,
     "metadata": {},
     "output_type": "execute_result"
    }
   ],
   "source": [
    "dfmap"
   ]
  },
  {
   "cell_type": "code",
   "execution_count": 46,
   "id": "0a84238d",
   "metadata": {},
   "outputs": [],
   "source": [
    "dfmap.drop(['STE_CODE16','AREASQKM16'], axis=1, inplace=True)\n"
   ]
  },
  {
   "cell_type": "code",
   "execution_count": 56,
   "id": "8dd165b1",
   "metadata": {},
   "outputs": [],
   "source": [
    "dfmap = GeoDataFrame(dfmap)"
   ]
  },
  {
   "cell_type": "code",
   "execution_count": 72,
   "id": "d12c5338",
   "metadata": {},
   "outputs": [
    {
     "ename": "NameError",
     "evalue": "name 'state' is not defined",
     "output_type": "error",
     "traceback": [
      "\u001b[0;31m---------------------------------------------------------------------------\u001b[0m",
      "\u001b[0;31mNameError\u001b[0m                                 Traceback (most recent call last)",
      "\u001b[0;32m/tmp/ipykernel_72/1751553744.py\u001b[0m in \u001b[0;36m<module>\u001b[0;34m\u001b[0m\n\u001b[1;32m     15\u001b[0m \u001b[0;31m#adding labels\u001b[0m\u001b[0;34m\u001b[0m\u001b[0;34m\u001b[0m\u001b[0;34m\u001b[0m\u001b[0m\n\u001b[1;32m     16\u001b[0m \u001b[0;31m#ax.add_feature(sp)\u001b[0m\u001b[0;34m\u001b[0m\u001b[0;34m\u001b[0m\u001b[0;34m\u001b[0m\u001b[0m\n\u001b[0;32m---> 17\u001b[0;31m \u001b[0mpnt\u001b[0m \u001b[0;34m=\u001b[0m \u001b[0mstate\u001b[0m\u001b[0;34m.\u001b[0m\u001b[0mgeometry\u001b[0m\u001b[0;34m.\u001b[0m\u001b[0mcentroid\u001b[0m\u001b[0;34m\u001b[0m\u001b[0;34m\u001b[0m\u001b[0m\n\u001b[0m\u001b[1;32m     18\u001b[0m \u001b[0manno\u001b[0m \u001b[0;34m=\u001b[0m \u001b[0mstate\u001b[0m\u001b[0;34m.\u001b[0m\u001b[0mattributes\u001b[0m\u001b[0;34m[\u001b[0m\u001b[0;34m'count'\u001b[0m\u001b[0;34m]\u001b[0m  \u001b[0;31m# 'name' is also possible\u001b[0m\u001b[0;34m\u001b[0m\u001b[0;34m\u001b[0m\u001b[0m\n\u001b[1;32m     19\u001b[0m \u001b[0;31m# `Axes CRS` is taken from: ax.projection\u001b[0m\u001b[0;34m\u001b[0m\u001b[0;34m\u001b[0m\u001b[0;34m\u001b[0m\u001b[0m\n",
      "\u001b[0;31mNameError\u001b[0m: name 'state' is not defined"
     ]
    },
    {
     "data": {
      "image/png": "[encoded data removed]",
      "text/plain": [
       "<Figure size 2160x720 with 1 Axes>"
      ]
     },
     "metadata": {
      "needs_background": "light"
     },
     "output_type": "display_data"
    }
   ],
   "source": [
    "# set the value column that will be visualised\n",
    "variable = 'count'\n",
    "# set the range for the choropleth values\n",
    "vmin, vmax = 0, 50\n",
    "# create figure and axes for Matplotlib\n",
    "fig, ax = plt.pyplot.subplots(1, figsize=(30, 10))\n",
    "# remove the axis\n",
    "ax.axis('off')\n",
    "# add a title and annotation\n",
    "#ax.set_title('# of Cities per each Region', fontdict={'fontsize': '25', 'fontweight' : '3'})\n",
    "#ax.annotate('Source: Wikipedia - https://en.wikipedia.org/wiki/Provinces_of_Indonesia', xy=(0.6, .05), xycoords='figure fraction', fontsize=12, color='#555555')\n",
    "# Create colorbar legend\n",
    "sm = plt.cm.ScalarMappable(cmap='Greens', norm=plt.pyplot.Normalize(vmin=vmin, vmax=vmax))\n",
    "\n",
    "#adding labels\n",
    "#ax.add_feature(sp) \n",
    "pnt = state.geometry.centroid\n",
    "anno = state.attributes['count']  # 'name' is also possible\n",
    "# `Axes CRS` is taken from: ax.projection\n",
    "# `Data CRS` is taken as `crs`\n",
    "ax.annotate(anno, ax.projection.transform_point(pnt.x, pnt.y, crs))\n",
    "\n",
    "# empty array for the data range\n",
    "sm.set_array([]) # or alternatively sm._A = []. Not sure why this step is necessary, but many recommends it\n",
    "# add the colorbar to the figure\n",
    "fig.colorbar(sm)\n",
    "# create map\n",
    "dfmap.plot(column=variable, cmap='Greens', linewidth=0.8, ax=ax, edgecolor='0.8')"
   ]
  },
  {
   "cell_type": "code",
   "execution_count": null,
   "id": "7fac5385",
   "metadata": {},
   "outputs": [],
   "source": []
  }
 ],
 "metadata": {
  "kernelspec": {
   "display_name": "Python 3 (ipykernel)",
   "language": "python",
   "name": "python3"
  },
  "language_info": {
   "codemirror_mode": {
    "name": "ipython",
    "version": 3
   },
   "file_extension": ".py",
   "mimetype": "text/x-python",
   "name": "python",
   "nbconvert_exporter": "python",
   "pygments_lexer": "ipython3",
   "version": "3.9.6"
  }
 },
 "nbformat": 4,
 "nbformat_minor": 5
}
